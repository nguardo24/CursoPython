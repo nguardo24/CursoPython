{
 "cells": [
  {
   "cell_type": "markdown",
   "metadata": {},
   "source": [
    "# Tipos de datos\n",
    "\n",
    "En Python, como en cualquier otro lenguaje de programación, los tipos de datos son utilizados para clasificar un tipo particular de dato.\n",
    "\n",
    "Esto resulta importante ya que el tipo específico de dato que uses determinará que valores podrás asignarle y qué operaciones podrás realizar con y sobre él. "
   ]
  },
  {
   "cell_type": "markdown",
   "metadata": {},
   "source": [
    "## Tipo de datos primitivos"
   ]
  },
  {
   "cell_type": "markdown",
   "metadata": {},
   "source": [
    "### String (cadena de caracteres)\n",
    "\n",
    "El tipo de dato `str` es utilizado para manipular texto. Estos datos puede asignarse utilizando comillas simples, dobles o triples. Estas últimas permiten escribir texto múltilinea sin especificar el caracter '\\n'."
   ]
  },
  {
   "cell_type": "code",
   "execution_count": 1,
   "metadata": {},
   "outputs": [
    {
     "name": "stdout",
     "output_type": "stream",
     "text": [
      "John\n",
      "Stinson\n",
      "Calle\n",
      "Falsa 123\n",
      "\n"
     ]
    }
   ],
   "source": [
    "nombre: str = \"John\"\n",
    "apellido: str = 'Stinson'\n",
    "direccion: str = '''Calle\n",
    "Falsa 123\n",
    "'''\n",
    "\n",
    "print(nombre)\n",
    "print(apellido)\n",
    "print(direccion)"
   ]
  },
  {
   "cell_type": "markdown",
   "metadata": {},
   "source": [
    "### Números\n",
    "\n",
    "Los tipos de datos numéricos pueden ser enteros (`int`), decimales o de punto flotante (`float`) o complejos (`complex`)"
   ]
  },
  {
   "cell_type": "code",
   "execution_count": 2,
   "metadata": {},
   "outputs": [
    {
     "name": "stdout",
     "output_type": "stream",
     "text": [
      "5\n",
      "10\n"
     ]
    }
   ],
   "source": [
    "# Numeros enteros\n",
    "\n",
    "a: int = 5\n",
    "b: int = 10\n",
    "\n",
    "print(a)\n",
    "print(b)"
   ]
  },
  {
   "cell_type": "code",
   "execution_count": 3,
   "metadata": {},
   "outputs": [
    {
     "name": "stdout",
     "output_type": "stream",
     "text": [
      "1.35 3.14\n"
     ]
    }
   ],
   "source": [
    "# Numeros decimales (o de punto flotante)\n",
    "\n",
    "x: float = 1.35\n",
    "y: float = 3.14\n",
    "\n",
    "print(x, y)"
   ]
  },
  {
   "cell_type": "code",
   "execution_count": 4,
   "metadata": {},
   "outputs": [
    {
     "name": "stdout",
     "output_type": "stream",
     "text": [
      "<class 'complex'> (2+3j)\n",
      "<class 'complex'> (3+14j)\n"
     ]
    }
   ],
   "source": [
    "# Complejos\n",
    "\n",
    "# Los numeros complejos se constituyen por una parte real y otra imaginaria\n",
    "\n",
    "m: complex = 2 + 3j\n",
    "n: complex = 3 + 14j\n",
    "\n",
    "print(type(m), m)\n",
    "print(type(n), n)"
   ]
  }
 ],
 "metadata": {
  "kernelspec": {
   "display_name": "base",
   "language": "python",
   "name": "python3"
  },
  "language_info": {
   "codemirror_mode": {
    "name": "ipython",
    "version": 3
   },
   "file_extension": ".py",
   "mimetype": "text/x-python",
   "name": "python",
   "nbconvert_exporter": "python",
   "pygments_lexer": "ipython3",
   "version": "3.11.6"
  }
 },
 "nbformat": 4,
 "nbformat_minor": 2
}
