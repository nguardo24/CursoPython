{
 "cells": [
  {
   "cell_type": "markdown",
   "metadata": {},
   "source": [
    "# Bienvenidx al curso de Python\n",
    "\n",
    "El objetivo del mismo es poder dar una introducción a cualquier persona interesada en aprender Python, principalmente personas relacionadas al mundo de las Ciencias de La Tierra."
   ]
  }
 ],
 "metadata": {
  "language_info": {
   "name": "python"
  }
 },
 "nbformat": 4,
 "nbformat_minor": 2
}
